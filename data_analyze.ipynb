{
 "cells": [
  {
   "cell_type": "code",
   "execution_count": 195,
   "metadata": {
    "id": "5skxxy60YMGY"
   },
   "outputs": [],
   "source": [
    "import pickle\n",
    "import pandas as pd\n",
    "import matplotlib.pyplot as plt"
   ]
  },
  {
   "cell_type": "code",
   "execution_count": 196,
   "outputs": [],
   "source": [
    "CONNECTION_AMOUNT=5\n",
    "PICKLE_FILENAME = 'pickle_data.pkl'"
   ],
   "metadata": {
    "collapsed": false
   }
  },
  {
   "cell_type": "code",
   "execution_count": 197,
   "outputs": [
    {
     "data": {
      "text/plain": "   receive_time connection_name  \\\n0  1.698200e+12    connection-5   \n1  1.698200e+12    connection-5   \n2  1.698200e+12    connection-4   \n3  1.698200e+12    connection-5   \n4  1.698200e+12    connection-4   \n\n                                            raw_data  \n0  {'e': 'bookTicker', 'u': 3398530401397, 's': '...  \n1  {'e': 'bookTicker', 'u': 3398530401662, 's': '...  \n2  {'e': 'bookTicker', 'u': 3398530401662, 's': '...  \n3  {'e': 'bookTicker', 'u': 3398530402104, 's': '...  \n4  {'e': 'bookTicker', 'u': 3398530402104, 's': '...  ",
      "text/html": "<div>\n<style scoped>\n    .dataframe tbody tr th:only-of-type {\n        vertical-align: middle;\n    }\n\n    .dataframe tbody tr th {\n        vertical-align: top;\n    }\n\n    .dataframe thead th {\n        text-align: right;\n    }\n</style>\n<table border=\"1\" class=\"dataframe\">\n  <thead>\n    <tr style=\"text-align: right;\">\n      <th></th>\n      <th>receive_time</th>\n      <th>connection_name</th>\n      <th>raw_data</th>\n    </tr>\n  </thead>\n  <tbody>\n    <tr>\n      <th>0</th>\n      <td>1.698200e+12</td>\n      <td>connection-5</td>\n      <td>{'e': 'bookTicker', 'u': 3398530401397, 's': '...</td>\n    </tr>\n    <tr>\n      <th>1</th>\n      <td>1.698200e+12</td>\n      <td>connection-5</td>\n      <td>{'e': 'bookTicker', 'u': 3398530401662, 's': '...</td>\n    </tr>\n    <tr>\n      <th>2</th>\n      <td>1.698200e+12</td>\n      <td>connection-4</td>\n      <td>{'e': 'bookTicker', 'u': 3398530401662, 's': '...</td>\n    </tr>\n    <tr>\n      <th>3</th>\n      <td>1.698200e+12</td>\n      <td>connection-5</td>\n      <td>{'e': 'bookTicker', 'u': 3398530402104, 's': '...</td>\n    </tr>\n    <tr>\n      <th>4</th>\n      <td>1.698200e+12</td>\n      <td>connection-4</td>\n      <td>{'e': 'bookTicker', 'u': 3398530402104, 's': '...</td>\n    </tr>\n  </tbody>\n</table>\n</div>"
     },
     "execution_count": 197,
     "metadata": {},
     "output_type": "execute_result"
    }
   ],
   "source": [
    "with open(PICKLE_FILENAME, 'rb') as f:\n",
    "  pickle_dict = pickle.load(f)\n",
    "ws_raw_data = pd.DataFrame.from_dict(pickle_dict)\n",
    "ws_raw_data.head()"
   ],
   "metadata": {
    "collapsed": false
   }
  },
  {
   "cell_type": "code",
   "source": [
    "ws_raw_data.groupby('connection_name')['connection_name'].count() # count received message for every connection"
   ],
   "metadata": {
    "colab": {
     "base_uri": "https://localhost:8080/"
    },
    "id": "8Vag7horkTHX",
    "outputId": "585e110a-c8de-491b-bfb3-c829a4a76f3b"
   },
   "execution_count": 198,
   "outputs": [
    {
     "data": {
      "text/plain": "connection_name\nconnection-2    5939\nconnection-3    5883\nconnection-4    5932\nconnection-5    5903\nconnection-6    5882\nName: connection_name, dtype: int64"
     },
     "execution_count": 198,
     "metadata": {},
     "output_type": "execute_result"
    }
   ]
  },
  {
   "cell_type": "code",
   "execution_count": 199,
   "metadata": {
    "id": "0r6FeZoxjPQG"
   },
   "outputs": [],
   "source": [
    "# extract data from raw message into df columns\n",
    "data = pd.DataFrame(ws_raw_data['raw_data'].apply(lambda x: x).tolist(), index=ws_raw_data.index)\n",
    "ws_data = pd.concat([data, ws_raw_data], axis=1)"
   ]
  },
  {
   "cell_type": "code",
   "source": [
    "# consider rows where updateId presents in every connection\n",
    "u_ids = ws_data['u'].dropna().value_counts()\n",
    "ws_data = ws_data[ws_data['u'].isin(u_ids[u_ids == CONNECTION_AMOUNT].index)]"
   ],
   "metadata": {
    "id": "99_4PxGR9HVo"
   },
   "execution_count": 200,
   "outputs": []
  },
  {
   "cell_type": "code",
   "source": [
    "ws_data.head()"
   ],
   "metadata": {
    "colab": {
     "base_uri": "https://localhost:8080/",
     "height": 226
    },
    "id": "HQbSpHoXmLKM",
    "outputId": "65fe07e5-17fd-47b2-9613-270da920a3f2"
   },
   "execution_count": 201,
   "outputs": [
    {
     "data": {
      "text/plain": "             e              u        s         b       B         a      A  \\\n8   bookTicker  3398530405220  BTCUSDT  34160.90  14.693  34161.00  1.749   \n9   bookTicker  3398530405220  BTCUSDT  34160.90  14.693  34161.00  1.749   \n10  bookTicker  3398530405220  BTCUSDT  34160.90  14.693  34161.00  1.749   \n11  bookTicker  3398530405220  BTCUSDT  34160.90  14.693  34161.00  1.749   \n12  bookTicker  3398530405297  BTCUSDT  34160.90  14.693  34161.00  1.761   \n\n                T              E  receive_time connection_name  \\\n8   1698199770057  1698199770058  1.698200e+12    connection-5   \n9   1698199770057  1698199770058  1.698200e+12    connection-2   \n10  1698199770057  1698199770058  1.698200e+12    connection-3   \n11  1698199770057  1698199770058  1.698200e+12    connection-6   \n12  1698199770061  1698199770062  1.698200e+12    connection-5   \n\n                                             raw_data  \n8   {'e': 'bookTicker', 'u': 3398530405220, 's': '...  \n9   {'e': 'bookTicker', 'u': 3398530405220, 's': '...  \n10  {'e': 'bookTicker', 'u': 3398530405220, 's': '...  \n11  {'e': 'bookTicker', 'u': 3398530405220, 's': '...  \n12  {'e': 'bookTicker', 'u': 3398530405297, 's': '...  ",
      "text/html": "<div>\n<style scoped>\n    .dataframe tbody tr th:only-of-type {\n        vertical-align: middle;\n    }\n\n    .dataframe tbody tr th {\n        vertical-align: top;\n    }\n\n    .dataframe thead th {\n        text-align: right;\n    }\n</style>\n<table border=\"1\" class=\"dataframe\">\n  <thead>\n    <tr style=\"text-align: right;\">\n      <th></th>\n      <th>e</th>\n      <th>u</th>\n      <th>s</th>\n      <th>b</th>\n      <th>B</th>\n      <th>a</th>\n      <th>A</th>\n      <th>T</th>\n      <th>E</th>\n      <th>receive_time</th>\n      <th>connection_name</th>\n      <th>raw_data</th>\n    </tr>\n  </thead>\n  <tbody>\n    <tr>\n      <th>8</th>\n      <td>bookTicker</td>\n      <td>3398530405220</td>\n      <td>BTCUSDT</td>\n      <td>34160.90</td>\n      <td>14.693</td>\n      <td>34161.00</td>\n      <td>1.749</td>\n      <td>1698199770057</td>\n      <td>1698199770058</td>\n      <td>1.698200e+12</td>\n      <td>connection-5</td>\n      <td>{'e': 'bookTicker', 'u': 3398530405220, 's': '...</td>\n    </tr>\n    <tr>\n      <th>9</th>\n      <td>bookTicker</td>\n      <td>3398530405220</td>\n      <td>BTCUSDT</td>\n      <td>34160.90</td>\n      <td>14.693</td>\n      <td>34161.00</td>\n      <td>1.749</td>\n      <td>1698199770057</td>\n      <td>1698199770058</td>\n      <td>1.698200e+12</td>\n      <td>connection-2</td>\n      <td>{'e': 'bookTicker', 'u': 3398530405220, 's': '...</td>\n    </tr>\n    <tr>\n      <th>10</th>\n      <td>bookTicker</td>\n      <td>3398530405220</td>\n      <td>BTCUSDT</td>\n      <td>34160.90</td>\n      <td>14.693</td>\n      <td>34161.00</td>\n      <td>1.749</td>\n      <td>1698199770057</td>\n      <td>1698199770058</td>\n      <td>1.698200e+12</td>\n      <td>connection-3</td>\n      <td>{'e': 'bookTicker', 'u': 3398530405220, 's': '...</td>\n    </tr>\n    <tr>\n      <th>11</th>\n      <td>bookTicker</td>\n      <td>3398530405220</td>\n      <td>BTCUSDT</td>\n      <td>34160.90</td>\n      <td>14.693</td>\n      <td>34161.00</td>\n      <td>1.749</td>\n      <td>1698199770057</td>\n      <td>1698199770058</td>\n      <td>1.698200e+12</td>\n      <td>connection-6</td>\n      <td>{'e': 'bookTicker', 'u': 3398530405220, 's': '...</td>\n    </tr>\n    <tr>\n      <th>12</th>\n      <td>bookTicker</td>\n      <td>3398530405297</td>\n      <td>BTCUSDT</td>\n      <td>34160.90</td>\n      <td>14.693</td>\n      <td>34161.00</td>\n      <td>1.761</td>\n      <td>1698199770061</td>\n      <td>1698199770062</td>\n      <td>1.698200e+12</td>\n      <td>connection-5</td>\n      <td>{'e': 'bookTicker', 'u': 3398530405297, 's': '...</td>\n    </tr>\n  </tbody>\n</table>\n</div>"
     },
     "execution_count": 201,
     "metadata": {},
     "output_type": "execute_result"
    }
   ]
  },
  {
   "cell_type": "code",
   "source": [
    "# count received message for every connection\n",
    "ws_data.groupby('connection_name')['connection_name'].count()"
   ],
   "metadata": {
    "colab": {
     "base_uri": "https://localhost:8080/"
    },
    "id": "SxapW1g0Jz8c",
    "outputId": "55b93bd2-6424-4bf1-c2af-08796aa94f78"
   },
   "execution_count": 202,
   "outputs": [
    {
     "data": {
      "text/plain": "connection_name\nconnection-2    5882\nconnection-3    5882\nconnection-4    5882\nconnection-5    5882\nconnection-6    5882\nName: connection_name, dtype: int64"
     },
     "execution_count": 202,
     "metadata": {},
     "output_type": "execute_result"
    }
   ]
  },
  {
   "cell_type": "code",
   "execution_count": 203,
   "metadata": {
    "id": "xklmOpHeD4MZ"
   },
   "outputs": [],
   "source": [
    "# calculate delay diff between receive and event time\n",
    "ws_data['delay'] = ws_data['receive_time'] - ws_data['E']"
   ]
  },
  {
   "cell_type": "code",
   "execution_count": 204,
   "outputs": [
    {
     "data": {
      "text/plain": "<Figure size 640x480 with 1 Axes>",
      "image/png": "[encoded data removed]"
     },
     "metadata": {},
     "output_type": "display_data"
    }
   ],
   "source": [
    "# delay's distribution of the connections\n",
    "for thread in ws_data['connection_name'].unique():\n",
    "  plt.hist(ws_data[ws_data['connection_name'] == thread]['delay'], alpha=0.8, label=thread, bins=150, range=(0, 600))\n",
    "\n",
    "plt.title('Delay Distribution by Connection')\n",
    "plt.xlabel('Delay')\n",
    "plt.ylabel('Frequency')\n",
    "\n",
    "plt.legend(title='connections')\n",
    "plt.show()"
   ],
   "metadata": {
    "collapsed": false
   }
  },
  {
   "cell_type": "code",
   "execution_count": 205,
   "outputs": [
    {
     "data": {
      "text/plain": "0.781468888133288"
     },
     "execution_count": 205,
     "metadata": {},
     "output_type": "execute_result"
    }
   ],
   "source": [
    "# Fraction of delays that less then 100ms\n",
    "ws_data[ws_data['delay'] < 200]['u'].count() / ws_data.shape[0]"
   ],
   "metadata": {
    "collapsed": false
   }
  },
  {
   "cell_type": "markdown",
   "source": [
    "Гистрограмма распределения показывает, что большинство (в моем случае 78.15%) задержек составляют менее 200мс для каждого открытого соединения."
   ],
   "metadata": {
    "collapsed": false
   }
  },
  {
   "cell_type": "code",
   "execution_count": 206,
   "outputs": [
    {
     "data": {
      "text/plain": "connection-5    0.476709\nconnection-4    0.338660\nconnection-3    0.094866\nconnection-2    0.073104\nconnection-6    0.016661\nName: proportion, dtype: float64"
     },
     "execution_count": 206,
     "metadata": {},
     "output_type": "execute_result"
    }
   ],
   "source": [
    "# \"fast\" connection\n",
    "# calculate fractions of updateIds that the connection received first\n",
    "ws_data.sort_values('receive_time').groupby('u').apply(lambda x: x.iloc[0].connection_name).value_counts(normalize=True)"
   ],
   "metadata": {
    "collapsed": false
   }
  },
  {
   "cell_type": "markdown",
   "source": [
    "### Рассуждения и гипотезы\n",
    "Видим, что одно из соединений получает сообщение быстрее, чем другие. В моем случае connection-5 в 47% случаях получает сообщение быстрее конкурентных сокетов.\n",
    "\n",
    "Однако сделать вывод на этом наблюдении нельзя - повторные запуски показали, что доля первых сообщений может быть как существенно выше у одного сокета(например, мне удалось зафиксировать наблюдение, когда один сокет в 68%-ах получах сообщение первым), так и распределена равномерно между всеми сокетами. Это значит, что текущая реализация не влияет на то, какой сокет первым получит сообщение. Более того, порядок открытия сокетов при текущей реализации так же не оказывает влияния.\n",
    "\n",
    "#### Тогда почему же так?\n",
    "Я определил несколько ключевых точек, которые могут оказывать влияние на скорость получения сокетами одного и того же сообщения. Эти точки связаны с путём, который необходимо пройти сообщению от биржи до конечного пользователя(сокета).\n",
    "Гипотезы:\n",
    "1. `Websocket server` НЕ отправляет одновременно сообщение всем клиентам. Многопотчные сокетные сервера будут стараться максимально справедливо поделить клиентов на группы(например, по геолокации датацентров) и разослать новое сообщение параллельно, однако даже такой подход даст разницу во времени.\n",
    "2. Маршрут, по которому идет сообщение от биржи до клиента может меняться. Сообщение проходит множество узлов прежде, чем попадет к клиенту(чем дальше клиент от сервера - тем больше узлов). Эти узлы могут меняться, поскольку задача сетевой маршрутизации - найти кратчайший(определяется нагруженностью и доступностью узла/ов) маршрут. Если маршрут изменился - время получения сообщения изменится.\n",
    "3. Последовательность Ethernet'a. Данные передаются пакетами, данные в пакетах записаны последовательно. То, каким по порядку сообщение для конкретного сокета будет записано, определяется на стороне сервера. Соответственно, более вероятно, что сообщение записанное первым в пакет данных от биржи, будет принятно и обработано клиентом раньше.\n",
    "4. Операционная система и сеть. Сетевая карта, сетевой драйвер и механизмы обработки пакетов данных в ОС безусловно влияют на время получения сообщения сокетом. Так, например, одно ядро ОС работает с процессом, внутри которого слушается сокет. ОС будет знать, на каком ядре искать этот процесс. При смене ядра, на котором находится процесс с сокетом, ОС будет вынуждена лезть в таблицу и искать, куда отдавать пришедшие данные - это займет определенное время. На уровне ОС таких причин можеть быть множество.\n",
    "5. `asyncio.tasks` выполняются последовательно одна за другой. Да, несмотря на то, что мой код асинхронный, пока одна таска выполняется, другая ждёт. В моем случае 1 сокет - 1 таска, это значит, что, пока 1 таска не обработает все события, пришедшие в сокет, она не передаст управление другой.Так получается что-то типа снежного кома: таска A выполняется и собирает всё, что падает в сокет.\n",
    "Тогда таски B, C  и D  сидят и ждут. Когда таска А закончит, у тасок B, C  и D уже накопятся сообщения, которые необходимо разобрать. Пусть таска А закончила, и управление перешло таске B. Таска B разбирает всё, что пришло пока выполнялась таска A плюс новые сообщения, которые приходят риал тайм. В это время таски А, C и D ждут. Пусть таска B  закончила и управление перешло таске C. Ей необходимо разобрать все сообщения, которые приходили, пока выполнялись таски A и B плюс те, что приходят риал тайм. Ситуация с таской D аналогична. В данном примере сокет в таске D будет самым медленным. Более того переключение между тасками не самое предсказуемое событие, поэтому утверждать, что передача будет выглядеть следующим образом `A->B->C->D` нельзя. Этот подход влияет на задержку.\n",
    "Многопоточность не решит эту проблему из-за GIL, а многопроцессность будет жрать много ресурсов.\n",
    "6. `asyncio.select` - системный вызов, который определяет готовность файловых дискрипторов для чтения/записи. Его реализация зависит от вашей ОС(в моем случае это KqueueSelector). Реализация определит то, какой сокет первым подхватит пришедшее сообщение и выиграет во времени."
   ],
   "metadata": {
    "collapsed": false
   }
  },
  {
   "cell_type": "markdown",
   "source": [
    "## Mean and variance values test\n",
    "\n",
    "У нас 5 групп, поэтому используем ANOVA-тест для сравнения матожиданий задержек коннекшенов.\n",
    "Для сравнения стандартных отклонений будем использовать Levene's-тест."
   ],
   "metadata": {
    "collapsed": false
   }
  },
  {
   "cell_type": "code",
   "execution_count": 207,
   "outputs": [
    {
     "data": {
      "text/plain": "F_onewayResult(statistic=735.6888729854273, pvalue=0.0)"
     },
     "execution_count": 207,
     "metadata": {},
     "output_type": "execute_result"
    }
   ],
   "source": [
    "from scipy.stats import f_oneway\n",
    "\n",
    "groups = []\n",
    "\n",
    "for connection in ws_data['connection_name'].unique():\n",
    "  groups.append(ws_data[ws_data['connection_name'] == connection]['delay'].tolist())\n",
    "\n",
    "f_oneway(*groups)"
   ],
   "metadata": {
    "collapsed": false
   }
  },
  {
   "cell_type": "markdown",
   "source": [
    "Результаты теста показали, что матожидания задержек у разных коннекшенов отличаются."
   ],
   "metadata": {
    "collapsed": false
   }
  },
  {
   "cell_type": "code",
   "execution_count": 208,
   "outputs": [
    {
     "data": {
      "text/plain": "LeveneResult(statistic=813.5318121054548, pvalue=0.0)"
     },
     "execution_count": 208,
     "metadata": {},
     "output_type": "execute_result"
    }
   ],
   "source": [
    "from scipy import stats\n",
    "stats.levene(*groups)"
   ],
   "metadata": {
    "collapsed": false
   }
  },
  {
   "cell_type": "markdown",
   "source": [
    "Результаты теста показали, что дисперсии задержек у разных коннекшенов отличаются"
   ],
   "metadata": {
    "collapsed": false
   }
  },
  {
   "cell_type": "markdown",
   "source": [
    "При отсутствии системного тестирования каждой из гипотез описанных выше можно утверждать, что результаты статистических тестов подтверждают гипотезу №5:\n",
    "- Переключение между тасками происходит, когда одна из тасок полностью разберет сокет\n",
    "- На какую именно таску произойдет переключение мы не можем определить однозначно"
   ],
   "metadata": {
    "collapsed": false
   }
  },
  {
   "cell_type": "code",
   "execution_count": 209,
   "outputs": [
    {
     "data": {
      "text/plain": "connection_name\nconnection-2    136.910977\nconnection-3    109.455498\nconnection-4      6.615549\nconnection-5     95.085699\nconnection-6    230.387884\nName: delay, dtype: float64"
     },
     "execution_count": 209,
     "metadata": {},
     "output_type": "execute_result"
    }
   ],
   "source": [
    "ws_data.groupby('connection_name')['delay'].std()"
   ],
   "metadata": {
    "collapsed": false
   }
  },
  {
   "cell_type": "code",
   "execution_count": 210,
   "outputs": [
    {
     "data": {
      "text/plain": "connection_name\nconnection-2    174.488916\nconnection-3    158.417790\nconnection-4     93.227958\nconnection-5    152.072134\nconnection-6    227.582050\nName: delay, dtype: float64"
     },
     "execution_count": 210,
     "metadata": {},
     "output_type": "execute_result"
    }
   ],
   "source": [
    "ws_data.groupby('connection_name')['delay'].mean()"
   ],
   "metadata": {
    "collapsed": false
   }
  },
  {
   "cell_type": "code",
   "execution_count": 190,
   "outputs": [
    {
     "data": {
      "text/plain": "connection_name\nconnection-2     96.374146\nconnection-3     96.519531\nconnection-4     90.639404\nconnection-5     94.945068\nconnection-6    108.265625\nName: delay, dtype: float64"
     },
     "execution_count": 190,
     "metadata": {},
     "output_type": "execute_result"
    }
   ],
   "source": [
    "ws_data.groupby('connection_name')['delay'].median()"
   ],
   "metadata": {
    "collapsed": false
   }
  },
  {
   "cell_type": "markdown",
   "source": [
    "Интересно, что самый быстрый коннекшен (`connection-4`) имеет минимальную дисперсию. Это говорит о том, что время, за которое сообщение дойдет до моей ОС не имеет сильных колебаний. Задержка же образуется внутри ОС, а именно при исполнении кода (гипотеза №5)."
   ],
   "metadata": {
    "collapsed": false
   }
  }
 ],
 "metadata": {
  "colab": {
   "provenance": []
  },
  "kernelspec": {
   "display_name": "Python 3",
   "name": "python3"
  },
  "language_info": {
   "name": "python"
  }
 },
 "nbformat": 4,
 "nbformat_minor": 0
}
